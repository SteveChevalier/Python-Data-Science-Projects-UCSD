{
 "cells": [
  {
   "cell_type": "markdown",
   "metadata": {},
   "source": [
    "### World Development Indicators\n",
    "UCSD Python for Data Science week six project"
   ]
  },
  {
   "cell_type": "markdown",
   "metadata": {},
   "source": [
    "**Project Goal**\n",
    "\n",
    "* Determine what countries have had the highest percent change in indicators between 1960 and 2015.<br><br>\n",
    "* Select only countries and indicators that have been reported in all years in the dataset (1960 through 2015)._\n",
    "* Examine the top and bottom of the list and recommend next steps."
   ]
  },
  {
   "cell_type": "markdown",
   "metadata": {},
   "source": [
    "**Import Libraries**"
   ]
  },
  {
   "cell_type": "code",
   "execution_count": 1,
   "metadata": {},
   "outputs": [],
   "source": [
    "import sqlite3\n",
    "import pandas as pd\n",
    "import numpy as np\n",
    "import matplotlib.pyplot as plt"
   ]
  },
  {
   "cell_type": "markdown",
   "metadata": {},
   "source": [
    "**Case Study: World Development Indicators Dataset**<br><br>\n",
    "**Our working dataset will be a subset of Indicator table**<br>\n",
    "First, a quick look at the Indicators table.<br>\n",
    "Source is World Bank, via Kaggle https://www.kaggle.com/worldbank/world-development-indicators"
   ]
  },
  {
   "cell_type": "code",
   "execution_count": 2,
   "metadata": {},
   "outputs": [],
   "source": [
    "# connect to the sqllite database\n",
    "cnx = sqlite3.connect('./data/database.sqlite')"
   ]
  },
  {
   "cell_type": "code",
   "execution_count": 3,
   "metadata": {},
   "outputs": [
    {
     "name": "stdout",
     "output_type": "stream",
     "text": [
      "  CountryName CountryCode                                      IndicatorName  \\\n",
      "0  Arab World         ARB  Adolescent fertility rate (births per 1,000 wo...   \n",
      "1  Arab World         ARB  Age dependency ratio (% of working-age populat...   \n",
      "2  Arab World         ARB  Age dependency ratio, old (% of working-age po...   \n",
      "3  Arab World         ARB  Age dependency ratio, young (% of working-age ...   \n",
      "4  Arab World         ARB        Arms exports (SIPRI trend indicator values)   \n",
      "\n",
      "    IndicatorCode  Year         Value  \n",
      "0     SP.ADO.TFRT  1960  1.335609e+02  \n",
      "1     SP.POP.DPND  1960  8.779760e+01  \n",
      "2  SP.POP.DPND.OL  1960  6.634579e+00  \n",
      "3  SP.POP.DPND.YG  1960  8.102333e+01  \n",
      "4  MS.MIL.XPRT.KD  1960  3.000000e+06  \n",
      "        CountryName CountryCode                              IndicatorName  \\\n",
      "5656453    Zimbabwe         ZWE  Time required to register property (days)   \n",
      "5656454    Zimbabwe         ZWE   Time required to start a business (days)   \n",
      "5656455    Zimbabwe         ZWE      Time to prepare and pay taxes (hours)   \n",
      "5656456    Zimbabwe         ZWE         Time to resolve insolvency (years)   \n",
      "5656457    Zimbabwe         ZWE   Total tax rate (% of commercial profits)   \n",
      "\n",
      "             IndicatorCode  Year  Value  \n",
      "5656453        IC.PRP.DURS  2015   36.0  \n",
      "5656454        IC.REG.DURS  2015   90.0  \n",
      "5656455        IC.TAX.DURS  2015  242.0  \n",
      "5656456        IC.ISV.DURS  2015    3.3  \n",
      "5656457  IC.TAX.TOTL.CP.ZS  2015   32.8  \n"
     ]
    }
   ],
   "source": [
    "# a look at the complete Indicators Table\n",
    "sql_stmt = \"select * from Indicators\"\n",
    "Indicators = pd.read_sql_query(sql_stmt, cnx)\n",
    "print(Indicators.head())\n",
    "print(Indicators.tail())"
   ]
  },
  {
   "cell_type": "code",
   "execution_count": 4,
   "metadata": {},
   "outputs": [
    {
     "name": "stdout",
     "output_type": "stream",
     "text": [
      "<class 'pandas.core.frame.DataFrame'>\n",
      "RangeIndex: 5656458 entries, 0 to 5656457\n",
      "Data columns (total 6 columns):\n",
      "CountryName      object\n",
      "CountryCode      object\n",
      "IndicatorName    object\n",
      "IndicatorCode    object\n",
      "Year             int64\n",
      "Value            float64\n",
      "dtypes: float64(1), int64(1), object(4)\n",
      "memory usage: 258.9+ MB\n"
     ]
    }
   ],
   "source": [
    "Indicators.info()"
   ]
  },
  {
   "cell_type": "code",
   "execution_count": 5,
   "metadata": {},
   "outputs": [
    {
     "data": {
      "text/html": [
       "<div>\n",
       "<style scoped>\n",
       "    .dataframe tbody tr th:only-of-type {\n",
       "        vertical-align: middle;\n",
       "    }\n",
       "\n",
       "    .dataframe tbody tr th {\n",
       "        vertical-align: top;\n",
       "    }\n",
       "\n",
       "    .dataframe thead th {\n",
       "        text-align: right;\n",
       "    }\n",
       "</style>\n",
       "<table border=\"1\" class=\"dataframe\">\n",
       "  <thead>\n",
       "    <tr style=\"text-align: right;\">\n",
       "      <th></th>\n",
       "      <th>Year</th>\n",
       "      <th>Value</th>\n",
       "    </tr>\n",
       "  </thead>\n",
       "  <tbody>\n",
       "    <tr>\n",
       "      <th>count</th>\n",
       "      <td>5.656458e+06</td>\n",
       "      <td>5.656458e+06</td>\n",
       "    </tr>\n",
       "    <tr>\n",
       "      <th>mean</th>\n",
       "      <td>1.994464e+03</td>\n",
       "      <td>1.070501e+12</td>\n",
       "    </tr>\n",
       "    <tr>\n",
       "      <th>std</th>\n",
       "      <td>1.387895e+01</td>\n",
       "      <td>4.842469e+13</td>\n",
       "    </tr>\n",
       "    <tr>\n",
       "      <th>min</th>\n",
       "      <td>1.960000e+03</td>\n",
       "      <td>-9.824821e+15</td>\n",
       "    </tr>\n",
       "    <tr>\n",
       "      <th>25%</th>\n",
       "      <td>1.984000e+03</td>\n",
       "      <td>5.566242e+00</td>\n",
       "    </tr>\n",
       "    <tr>\n",
       "      <th>50%</th>\n",
       "      <td>1.997000e+03</td>\n",
       "      <td>6.357450e+01</td>\n",
       "    </tr>\n",
       "    <tr>\n",
       "      <th>75%</th>\n",
       "      <td>2.006000e+03</td>\n",
       "      <td>1.346722e+07</td>\n",
       "    </tr>\n",
       "    <tr>\n",
       "      <th>max</th>\n",
       "      <td>2.015000e+03</td>\n",
       "      <td>1.103367e+16</td>\n",
       "    </tr>\n",
       "  </tbody>\n",
       "</table>\n",
       "</div>"
      ],
      "text/plain": [
       "               Year         Value\n",
       "count  5.656458e+06  5.656458e+06\n",
       "mean   1.994464e+03  1.070501e+12\n",
       "std    1.387895e+01  4.842469e+13\n",
       "min    1.960000e+03 -9.824821e+15\n",
       "25%    1.984000e+03  5.566242e+00\n",
       "50%    1.997000e+03  6.357450e+01\n",
       "75%    2.006000e+03  1.346722e+07\n",
       "max    2.015000e+03  1.103367e+16"
      ]
     },
     "execution_count": 5,
     "metadata": {},
     "output_type": "execute_result"
    }
   ],
   "source": [
    "Indicators.describe()"
   ]
  },
  {
   "cell_type": "markdown",
   "metadata": {},
   "source": [
    "### The range of years and number of years in the study.\n"
   ]
  },
  {
   "cell_type": "code",
   "execution_count": 6,
   "metadata": {},
   "outputs": [
    {
     "name": "stdout",
     "output_type": "stream",
     "text": [
      "1960  to  2015\n"
     ]
    }
   ],
   "source": [
    "print(min(Indicators.Year),\" to \",max(Indicators.Year))"
   ]
  },
  {
   "cell_type": "code",
   "execution_count": 7,
   "metadata": {},
   "outputs": [
    {
     "data": {
      "text/plain": [
       "56"
      ]
     },
     "execution_count": 7,
     "metadata": {},
     "output_type": "execute_result"
    }
   ],
   "source": [
    "years = Indicators['Year'].unique().tolist()\n",
    "len(years)"
   ]
  },
  {
   "cell_type": "markdown",
   "metadata": {},
   "source": [
    "### The Indicators table was used to create the final dataframe for study using these two SQL statements<br>\n",
    "<br>\n",
    "**The first SQL statement creates a table with Countries and Indicators that have values for each of the 56 years from 1960 through 2015.**<br>\n",
    "\n",
    "**The second SQL uses the first SQL to filter the final result to just those Countries/Indicators, adds columns that contain the  values for the first year and the last year, calculates the percent change between those two values and then sorts the dataset in decending order by percent change and selected the 10 country, indicators with the most change.**<br>\n",
    "<br>\n",
    "<br>\n",
    "**-- create table of counties with Indicators over all years to use as a filter**\n",
    "```\n",
    "CREATE TABLE select_Country_Indicators(\n",
    "\tCountryName TEXT, \n",
    "\tCountryCode TEXT, \n",
    "\tIndicatorName TEXT, \n",
    "\tIndicatorCode TEXT, \n",
    "\tval_1960 NUMERIC, \n",
    "\tval_2015 NUMERIC, \n",
    "\tpercentChange NUMERIC)\n",
    "\n",
    "insert into country_ind_all_years as\n",
    "select CountryName, CountryCode, IndicatorName, IndicatorCode, count(*)\n",
    "from Indicators\n",
    "where Year between 1960 and 2015\n",
    "group by CountryCode, IndicatorCode\n",
    "having count(*) = 56;\n",
    "```\n",
    "\n",
    "**Create the final table of countries / indicators including values required for study**\n",
    "```\n",
    "create table select_Country_Indicators as\n",
    "select distinct a.CountryName, a.CountryCode, a.IndicatorName, a.IndicatorCode, \n",
    "\tb.Value as val_1960, c.Value as val_2015\n",
    "from country_ind_all_years a\n",
    "join Indicators b on a.CountryCode = b.CountryCode and a.IndicatorCode = b.IndicatorCode and b.Year=1960\n",
    "join Indicators c on a.CountryCode = c.CountryCode and a.IndicatorCode = c.IndicatorCode and c.Year=2015;\n",
    "```\n",
    "\n",
    "**Becuase of technical issues, the percent change was calculated in Excel and the data saved as a .csv file.**\n",
    "\n",
    "_I know I should have done this with python, but after two days of struggle, I fell back on a language that I knew well so I could submit the project promptly. I'll go back and work through this in python later._\n",
    "\n",
    "**On to the analysis as stated in the goal.**"
   ]
  },
  {
   "cell_type": "markdown",
   "metadata": {},
   "source": [
    "**Create dataframe of selected countries and filter to the top 10**"
   ]
  },
  {
   "cell_type": "code",
   "execution_count": 8,
   "metadata": {},
   "outputs": [
    {
     "ename": "NameError",
     "evalue": "name 'ind4study' is not defined",
     "output_type": "error",
     "traceback": [
      "\u001b[1;31m---------------------------------------------------------------------------\u001b[0m",
      "\u001b[1;31mNameError\u001b[0m                                 Traceback (most recent call last)",
      "\u001b[1;32m<ipython-input-8-b40b4811245e>\u001b[0m in \u001b[0;36m<module>\u001b[1;34m\u001b[0m\n\u001b[0;32m      1\u001b[0m \u001b[0msql_stmt\u001b[0m \u001b[1;33m=\u001b[0m \u001b[1;34m\"select CountryCode, IndicatorCode, val_1960, val_2015 from select_Country_Indicators\"\u001b[0m\u001b[1;33m\u001b[0m\u001b[1;33m\u001b[0m\u001b[0m\n\u001b[0;32m      2\u001b[0m \u001b[0mcountry_ind_\u001b[0m \u001b[1;33m=\u001b[0m \u001b[0mpd\u001b[0m\u001b[1;33m.\u001b[0m\u001b[0mread_sql_query\u001b[0m\u001b[1;33m(\u001b[0m\u001b[0msql_stmt\u001b[0m\u001b[1;33m,\u001b[0m \u001b[0mcnx\u001b[0m\u001b[1;33m)\u001b[0m\u001b[1;33m\u001b[0m\u001b[1;33m\u001b[0m\u001b[0m\n\u001b[1;32m----> 3\u001b[1;33m \u001b[0mind4study\u001b[0m\u001b[1;33m.\u001b[0m\u001b[0mhead\u001b[0m\u001b[1;33m(\u001b[0m\u001b[1;36m10\u001b[0m\u001b[1;33m)\u001b[0m\u001b[1;33m\u001b[0m\u001b[1;33m\u001b[0m\u001b[0m\n\u001b[0m",
      "\u001b[1;31mNameError\u001b[0m: name 'ind4study' is not defined"
     ]
    }
   ],
   "source": [
    "sql_stmt = \"select CountryCode, IndicatorCode, val_1960, val_2015 from select_Country_Indicators\"\n",
    "country_ind_ = pd.read_sql_query(sql_stmt, cnx)\n",
    "ind4study.head(10)"
   ]
  },
  {
   "cell_type": "code",
   "execution_count": 9,
   "metadata": {},
   "outputs": [
    {
     "data": {
      "text/html": [
       "<div>\n",
       "<style scoped>\n",
       "    .dataframe tbody tr th:only-of-type {\n",
       "        vertical-align: middle;\n",
       "    }\n",
       "\n",
       "    .dataframe tbody tr th {\n",
       "        vertical-align: top;\n",
       "    }\n",
       "\n",
       "    .dataframe thead th {\n",
       "        text-align: right;\n",
       "    }\n",
       "</style>\n",
       "<table border=\"1\" class=\"dataframe\">\n",
       "  <thead>\n",
       "    <tr style=\"text-align: right;\">\n",
       "      <th></th>\n",
       "      <th>CountryName</th>\n",
       "      <th>CountryCode</th>\n",
       "      <th>IndicatorName</th>\n",
       "      <th>IndicatorCode</th>\n",
       "      <th>val_1960</th>\n",
       "      <th>val_2015</th>\n",
       "      <th>percentChange</th>\n",
       "      <th>abs_prct_chng</th>\n",
       "    </tr>\n",
       "  </thead>\n",
       "  <tbody>\n",
       "    <tr>\n",
       "      <th>0</th>\n",
       "      <td>Portugal</td>\n",
       "      <td>PRT</td>\n",
       "      <td>Number of under-five deaths</td>\n",
       "      <td>SH.DTH.MORT</td>\n",
       "      <td>23643.0</td>\n",
       "      <td>304.0</td>\n",
       "      <td>-98.714207</td>\n",
       "      <td>98.714207</td>\n",
       "    </tr>\n",
       "    <tr>\n",
       "      <th>1</th>\n",
       "      <td>Portugal</td>\n",
       "      <td>PRT</td>\n",
       "      <td>Number of infant deaths</td>\n",
       "      <td>SH.DTH.IMRT</td>\n",
       "      <td>17652.0</td>\n",
       "      <td>251.0</td>\n",
       "      <td>-98.578065</td>\n",
       "      <td>98.578065</td>\n",
       "    </tr>\n",
       "    <tr>\n",
       "      <th>2</th>\n",
       "      <td>Korea, Rep.</td>\n",
       "      <td>KOR</td>\n",
       "      <td>Number of under-five deaths</td>\n",
       "      <td>SH.DTH.MORT</td>\n",
       "      <td>80329.0</td>\n",
       "      <td>1559.0</td>\n",
       "      <td>-98.059231</td>\n",
       "      <td>98.059231</td>\n",
       "    </tr>\n",
       "    <tr>\n",
       "      <th>3</th>\n",
       "      <td>Korea, Rep.</td>\n",
       "      <td>KOR</td>\n",
       "      <td>Number of infant deaths</td>\n",
       "      <td>SH.DTH.IMRT</td>\n",
       "      <td>52764.0</td>\n",
       "      <td>1329.0</td>\n",
       "      <td>-97.481237</td>\n",
       "      <td>97.481237</td>\n",
       "    </tr>\n",
       "    <tr>\n",
       "      <th>4</th>\n",
       "      <td>Korea, Rep.</td>\n",
       "      <td>KOR</td>\n",
       "      <td>Mortality rate, under-5 (per 1,000)</td>\n",
       "      <td>SH.DYN.MORT</td>\n",
       "      <td>112.9</td>\n",
       "      <td>3.4</td>\n",
       "      <td>-96.988485</td>\n",
       "      <td>96.988485</td>\n",
       "    </tr>\n",
       "  </tbody>\n",
       "</table>\n",
       "</div>"
      ],
      "text/plain": [
       "   CountryName CountryCode                        IndicatorName IndicatorCode  \\\n",
       "0     Portugal         PRT          Number of under-five deaths   SH.DTH.MORT   \n",
       "1     Portugal         PRT              Number of infant deaths   SH.DTH.IMRT   \n",
       "2  Korea, Rep.         KOR          Number of under-five deaths   SH.DTH.MORT   \n",
       "3  Korea, Rep.         KOR              Number of infant deaths   SH.DTH.IMRT   \n",
       "4  Korea, Rep.         KOR  Mortality rate, under-5 (per 1,000)   SH.DYN.MORT   \n",
       "\n",
       "   val_1960  val_2015  percentChange  abs_prct_chng  \n",
       "0   23643.0     304.0     -98.714207      98.714207  \n",
       "1   17652.0     251.0     -98.578065      98.578065  \n",
       "2   80329.0    1559.0     -98.059231      98.059231  \n",
       "3   52764.0    1329.0     -97.481237      97.481237  \n",
       "4     112.9       3.4     -96.988485      96.988485  "
      ]
     },
     "execution_count": 9,
     "metadata": {},
     "output_type": "execute_result"
    }
   ],
   "source": [
    "# read csv of above with percent change columns added in excel\n",
    "ind4study = pd.read_csv('./data/select_Country_Indicators.csv')\n",
    "ind4study.head()"
   ]
  },
  {
   "cell_type": "code",
   "execution_count": 10,
   "metadata": {},
   "outputs": [
    {
     "data": {
      "text/html": [
       "<div>\n",
       "<style scoped>\n",
       "    .dataframe tbody tr th:only-of-type {\n",
       "        vertical-align: middle;\n",
       "    }\n",
       "\n",
       "    .dataframe tbody tr th {\n",
       "        vertical-align: top;\n",
       "    }\n",
       "\n",
       "    .dataframe thead th {\n",
       "        text-align: right;\n",
       "    }\n",
       "</style>\n",
       "<table border=\"1\" class=\"dataframe\">\n",
       "  <thead>\n",
       "    <tr style=\"text-align: right;\">\n",
       "      <th></th>\n",
       "      <th>val_1960</th>\n",
       "      <th>val_2015</th>\n",
       "      <th>percentChange</th>\n",
       "      <th>abs_prct_chng</th>\n",
       "    </tr>\n",
       "  </thead>\n",
       "  <tbody>\n",
       "    <tr>\n",
       "      <th>count</th>\n",
       "      <td>4.420000e+02</td>\n",
       "      <td>4.420000e+02</td>\n",
       "      <td>442.000000</td>\n",
       "      <td>442.000000</td>\n",
       "    </tr>\n",
       "    <tr>\n",
       "      <th>mean</th>\n",
       "      <td>3.056440e+05</td>\n",
       "      <td>1.000157e+05</td>\n",
       "      <td>-70.277483</td>\n",
       "      <td>74.301277</td>\n",
       "    </tr>\n",
       "    <tr>\n",
       "      <th>std</th>\n",
       "      <td>1.841616e+06</td>\n",
       "      <td>6.008266e+05</td>\n",
       "      <td>32.922928</td>\n",
       "      <td>22.379562</td>\n",
       "    </tr>\n",
       "    <tr>\n",
       "      <th>min</th>\n",
       "      <td>1.630000e+01</td>\n",
       "      <td>1.600000e+00</td>\n",
       "      <td>-98.714207</td>\n",
       "      <td>0.216744</td>\n",
       "    </tr>\n",
       "    <tr>\n",
       "      <th>25%</th>\n",
       "      <td>1.082750e+02</td>\n",
       "      <td>1.677591e+01</td>\n",
       "      <td>-89.366094</td>\n",
       "      <td>68.050292</td>\n",
       "    </tr>\n",
       "    <tr>\n",
       "      <th>50%</th>\n",
       "      <td>2.631000e+02</td>\n",
       "      <td>6.465000e+01</td>\n",
       "      <td>-82.316935</td>\n",
       "      <td>82.316935</td>\n",
       "    </tr>\n",
       "    <tr>\n",
       "      <th>75%</th>\n",
       "      <td>1.843350e+04</td>\n",
       "      <td>3.289750e+03</td>\n",
       "      <td>-67.807806</td>\n",
       "      <td>89.366094</td>\n",
       "    </tr>\n",
       "    <tr>\n",
       "      <th>max</th>\n",
       "      <td>1.835379e+07</td>\n",
       "      <td>5.944556e+06</td>\n",
       "      <td>72.187570</td>\n",
       "      <td>98.714207</td>\n",
       "    </tr>\n",
       "  </tbody>\n",
       "</table>\n",
       "</div>"
      ],
      "text/plain": [
       "           val_1960      val_2015  percentChange  abs_prct_chng\n",
       "count  4.420000e+02  4.420000e+02     442.000000     442.000000\n",
       "mean   3.056440e+05  1.000157e+05     -70.277483      74.301277\n",
       "std    1.841616e+06  6.008266e+05      32.922928      22.379562\n",
       "min    1.630000e+01  1.600000e+00     -98.714207       0.216744\n",
       "25%    1.082750e+02  1.677591e+01     -89.366094      68.050292\n",
       "50%    2.631000e+02  6.465000e+01     -82.316935      82.316935\n",
       "75%    1.843350e+04  3.289750e+03     -67.807806      89.366094\n",
       "max    1.835379e+07  5.944556e+06      72.187570      98.714207"
      ]
     },
     "execution_count": 10,
     "metadata": {},
     "output_type": "execute_result"
    }
   ],
   "source": [
    "ind4study.describe()"
   ]
  },
  {
   "cell_type": "markdown",
   "metadata": {},
   "source": [
    "**Explore Indicator Table**"
   ]
  },
  {
   "cell_type": "code",
   "execution_count": 11,
   "metadata": {},
   "outputs": [
    {
     "name": "stdout",
     "output_type": "stream",
     "text": [
      "<class 'pandas.core.frame.DataFrame'>\n",
      "RangeIndex: 442 entries, 0 to 441\n",
      "Data columns (total 8 columns):\n",
      "CountryName      442 non-null object\n",
      "CountryCode      442 non-null object\n",
      "IndicatorName    442 non-null object\n",
      "IndicatorCode    442 non-null object\n",
      "val_1960         442 non-null float64\n",
      "val_2015         442 non-null float64\n",
      "percentChange    442 non-null float64\n",
      "abs_prct_chng    442 non-null float64\n",
      "dtypes: float64(4), object(4)\n",
      "memory usage: 27.7+ KB\n"
     ]
    }
   ],
   "source": [
    "ind4study.info()"
   ]
  },
  {
   "cell_type": "markdown",
   "metadata": {},
   "source": [
    "<h1 style=\"font-size:2em;color:#2467C0\">Descriptive Statistics</h1>\n",
    "\n",
    "Let's look how the ratings are distributed! "
   ]
  },
  {
   "cell_type": "code",
   "execution_count": 12,
   "metadata": {},
   "outputs": [
    {
     "data": {
      "text/plain": [
       "CountryName      0\n",
       "CountryCode      0\n",
       "IndicatorName    0\n",
       "IndicatorCode    0\n",
       "val_1960         0\n",
       "val_2015         0\n",
       "percentChange    0\n",
       "abs_prct_chng    0\n",
       "dtype: int64"
      ]
     },
     "execution_count": 12,
     "metadata": {},
     "output_type": "execute_result"
    }
   ],
   "source": [
    "# check for nulls\n",
    "ind4study.isnull().any().any(), ind4study.shape\n",
    "ind4study.isnull().sum(axis=0)"
   ]
  },
  {
   "cell_type": "markdown",
   "metadata": {},
   "source": [
    "### How many years of data do we have ?"
   ]
  },
  {
   "cell_type": "code",
   "execution_count": 13,
   "metadata": {},
   "outputs": [
    {
     "name": "stdout",
     "output_type": "stream",
     "text": [
      "1960  to  2015\n"
     ]
    }
   ],
   "source": [
    "### What's the range of years?\n",
    "print(min(years),\" to \",max(years))"
   ]
  },
  {
   "cell_type": "code",
   "execution_count": 14,
   "metadata": {},
   "outputs": [
    {
     "data": {
      "text/html": [
       "<div>\n",
       "<style scoped>\n",
       "    .dataframe tbody tr th:only-of-type {\n",
       "        vertical-align: middle;\n",
       "    }\n",
       "\n",
       "    .dataframe tbody tr th {\n",
       "        vertical-align: top;\n",
       "    }\n",
       "\n",
       "    .dataframe thead th {\n",
       "        text-align: right;\n",
       "    }\n",
       "</style>\n",
       "<table border=\"1\" class=\"dataframe\">\n",
       "  <thead>\n",
       "    <tr style=\"text-align: right;\">\n",
       "      <th></th>\n",
       "      <th>val_1960</th>\n",
       "      <th>val_2015</th>\n",
       "      <th>percentChange</th>\n",
       "      <th>abs_prct_chng</th>\n",
       "    </tr>\n",
       "  </thead>\n",
       "  <tbody>\n",
       "    <tr>\n",
       "      <th>count</th>\n",
       "      <td>4.420000e+02</td>\n",
       "      <td>4.420000e+02</td>\n",
       "      <td>442.000000</td>\n",
       "      <td>442.000000</td>\n",
       "    </tr>\n",
       "    <tr>\n",
       "      <th>mean</th>\n",
       "      <td>3.056440e+05</td>\n",
       "      <td>1.000157e+05</td>\n",
       "      <td>-70.277483</td>\n",
       "      <td>74.301277</td>\n",
       "    </tr>\n",
       "    <tr>\n",
       "      <th>std</th>\n",
       "      <td>1.841616e+06</td>\n",
       "      <td>6.008266e+05</td>\n",
       "      <td>32.922928</td>\n",
       "      <td>22.379562</td>\n",
       "    </tr>\n",
       "    <tr>\n",
       "      <th>min</th>\n",
       "      <td>1.630000e+01</td>\n",
       "      <td>1.600000e+00</td>\n",
       "      <td>-98.714207</td>\n",
       "      <td>0.216744</td>\n",
       "    </tr>\n",
       "    <tr>\n",
       "      <th>25%</th>\n",
       "      <td>1.082750e+02</td>\n",
       "      <td>1.677591e+01</td>\n",
       "      <td>-89.366094</td>\n",
       "      <td>68.050292</td>\n",
       "    </tr>\n",
       "    <tr>\n",
       "      <th>50%</th>\n",
       "      <td>2.631000e+02</td>\n",
       "      <td>6.465000e+01</td>\n",
       "      <td>-82.316935</td>\n",
       "      <td>82.316935</td>\n",
       "    </tr>\n",
       "    <tr>\n",
       "      <th>75%</th>\n",
       "      <td>1.843350e+04</td>\n",
       "      <td>3.289750e+03</td>\n",
       "      <td>-67.807806</td>\n",
       "      <td>89.366094</td>\n",
       "    </tr>\n",
       "    <tr>\n",
       "      <th>max</th>\n",
       "      <td>1.835379e+07</td>\n",
       "      <td>5.944556e+06</td>\n",
       "      <td>72.187570</td>\n",
       "      <td>98.714207</td>\n",
       "    </tr>\n",
       "  </tbody>\n",
       "</table>\n",
       "</div>"
      ],
      "text/plain": [
       "           val_1960      val_2015  percentChange  abs_prct_chng\n",
       "count  4.420000e+02  4.420000e+02     442.000000     442.000000\n",
       "mean   3.056440e+05  1.000157e+05     -70.277483      74.301277\n",
       "std    1.841616e+06  6.008266e+05      32.922928      22.379562\n",
       "min    1.630000e+01  1.600000e+00     -98.714207       0.216744\n",
       "25%    1.082750e+02  1.677591e+01     -89.366094      68.050292\n",
       "50%    2.631000e+02  6.465000e+01     -82.316935      82.316935\n",
       "75%    1.843350e+04  3.289750e+03     -67.807806      89.366094\n",
       "max    1.835379e+07  5.944556e+06      72.187570      98.714207"
      ]
     },
     "execution_count": 14,
     "metadata": {},
     "output_type": "execute_result"
    }
   ],
   "source": [
    "# Describe data\n",
    "ind4study.describe()"
   ]
  },
  {
   "cell_type": "code",
   "execution_count": 15,
   "metadata": {
    "scrolled": true
   },
   "outputs": [
    {
     "data": {
      "text/html": [
       "<div>\n",
       "<style scoped>\n",
       "    .dataframe tbody tr th:only-of-type {\n",
       "        vertical-align: middle;\n",
       "    }\n",
       "\n",
       "    .dataframe tbody tr th {\n",
       "        vertical-align: top;\n",
       "    }\n",
       "\n",
       "    .dataframe thead th {\n",
       "        text-align: right;\n",
       "    }\n",
       "</style>\n",
       "<table border=\"1\" class=\"dataframe\">\n",
       "  <thead>\n",
       "    <tr style=\"text-align: right;\">\n",
       "      <th></th>\n",
       "      <th>val_1960</th>\n",
       "      <th>val_2015</th>\n",
       "      <th>percentChange</th>\n",
       "      <th>abs_prct_chng</th>\n",
       "    </tr>\n",
       "  </thead>\n",
       "  <tbody>\n",
       "    <tr>\n",
       "      <th>val_1960</th>\n",
       "      <td>1.000000</td>\n",
       "      <td>0.989164</td>\n",
       "      <td>0.015160</td>\n",
       "      <td>-0.049467</td>\n",
       "    </tr>\n",
       "    <tr>\n",
       "      <th>val_2015</th>\n",
       "      <td>0.989164</td>\n",
       "      <td>1.000000</td>\n",
       "      <td>0.037983</td>\n",
       "      <td>-0.073855</td>\n",
       "    </tr>\n",
       "    <tr>\n",
       "      <th>percentChange</th>\n",
       "      <td>0.015160</td>\n",
       "      <td>0.037983</td>\n",
       "      <td>1.000000</td>\n",
       "      <td>-0.842187</td>\n",
       "    </tr>\n",
       "    <tr>\n",
       "      <th>abs_prct_chng</th>\n",
       "      <td>-0.049467</td>\n",
       "      <td>-0.073855</td>\n",
       "      <td>-0.842187</td>\n",
       "      <td>1.000000</td>\n",
       "    </tr>\n",
       "  </tbody>\n",
       "</table>\n",
       "</div>"
      ],
      "text/plain": [
       "               val_1960  val_2015  percentChange  abs_prct_chng\n",
       "val_1960       1.000000  0.989164       0.015160      -0.049467\n",
       "val_2015       0.989164  1.000000       0.037983      -0.073855\n",
       "percentChange  0.015160  0.037983       1.000000      -0.842187\n",
       "abs_prct_chng -0.049467 -0.073855      -0.842187       1.000000"
      ]
     },
     "execution_count": 15,
     "metadata": {},
     "output_type": "execute_result"
    }
   ],
   "source": [
    "# Didn't expect these to corrolate\n",
    "ind4study.corr()"
   ]
  },
  {
   "cell_type": "markdown",
   "metadata": {},
   "source": [
    "<h1 style=\"font-size:2em;color:#2467C0\">Data Cleaning: Handling Missing Data</h1>"
   ]
  },
  {
   "cell_type": "markdown",
   "metadata": {},
   "source": [
    "**No nulls found, data OK in that respect.**\n"
   ]
  },
  {
   "cell_type": "code",
   "execution_count": 16,
   "metadata": {},
   "outputs": [
    {
     "data": {
      "text/plain": [
       "(442, 8)"
      ]
     },
     "execution_count": 16,
     "metadata": {},
     "output_type": "execute_result"
    }
   ],
   "source": [
    "# rows and columns count\n",
    "ind4study.shape"
   ]
  },
  {
   "cell_type": "code",
   "execution_count": 17,
   "metadata": {},
   "outputs": [
    {
     "data": {
      "text/plain": [
       "CountryName      False\n",
       "CountryCode      False\n",
       "IndicatorName    False\n",
       "IndicatorCode    False\n",
       "val_1960         False\n",
       "val_2015         False\n",
       "percentChange    False\n",
       "abs_prct_chng    False\n",
       "dtype: bool"
      ]
     },
     "execution_count": 17,
     "metadata": {},
     "output_type": "execute_result"
    }
   ],
   "source": [
    "# Are any rows null?\n",
    "ind4study.isnull().any()"
   ]
  },
  {
   "cell_type": "markdown",
   "metadata": {},
   "source": [
    "<h1 style=\"font-size:2em;color:#2467C0\">Data Visualization</h1>"
   ]
  },
  {
   "cell_type": "code",
   "execution_count": 18,
   "metadata": {},
   "outputs": [
    {
     "data": {
      "text/plain": [
       "Text(0.5, 1.0, 'Histogram of Percent Change of Indicator Values')"
      ]
     },
     "execution_count": 18,
     "metadata": {},
     "output_type": "execute_result"
    },
    {
     "data": {
      "image/png": "[encoded data removed]",
      "text/plain": [
       "<Figure size 432x288 with 1 Axes>"
      ]
     },
     "metadata": {
      "needs_background": "light"
     },
     "output_type": "display_data"
    }
   ],
   "source": [
    "plt.hist(ind4study['percentChange'], 10, density=False, facecolor='green')\n",
    "plt.xlabel('Percent Change')\n",
    "plt.ylabel('# of Countries/Indicators')\n",
    "plt.title('Histogram of Percent Change of Indicator Values')"
   ]
  },
  {
   "cell_type": "code",
   "execution_count": 19,
   "metadata": {},
   "outputs": [
    {
     "data": {
      "text/html": [
       "<div>\n",
       "<style scoped>\n",
       "    .dataframe tbody tr th:only-of-type {\n",
       "        vertical-align: middle;\n",
       "    }\n",
       "\n",
       "    .dataframe tbody tr th {\n",
       "        vertical-align: top;\n",
       "    }\n",
       "\n",
       "    .dataframe thead th {\n",
       "        text-align: right;\n",
       "    }\n",
       "</style>\n",
       "<table border=\"1\" class=\"dataframe\">\n",
       "  <thead>\n",
       "    <tr style=\"text-align: right;\">\n",
       "      <th></th>\n",
       "      <th>CountryName</th>\n",
       "      <th>CountryCode</th>\n",
       "      <th>IndicatorName</th>\n",
       "      <th>val_1960</th>\n",
       "      <th>val_2015</th>\n",
       "      <th>percentChange</th>\n",
       "    </tr>\n",
       "  </thead>\n",
       "  <tbody>\n",
       "    <tr>\n",
       "      <th>0</th>\n",
       "      <td>Portugal</td>\n",
       "      <td>PRT</td>\n",
       "      <td>Number of under-five deaths</td>\n",
       "      <td>23643.0</td>\n",
       "      <td>304.0</td>\n",
       "      <td>-98.714207</td>\n",
       "    </tr>\n",
       "    <tr>\n",
       "      <th>1</th>\n",
       "      <td>Portugal</td>\n",
       "      <td>PRT</td>\n",
       "      <td>Number of infant deaths</td>\n",
       "      <td>17652.0</td>\n",
       "      <td>251.0</td>\n",
       "      <td>-98.578065</td>\n",
       "    </tr>\n",
       "    <tr>\n",
       "      <th>2</th>\n",
       "      <td>Korea, Rep.</td>\n",
       "      <td>KOR</td>\n",
       "      <td>Number of under-five deaths</td>\n",
       "      <td>80329.0</td>\n",
       "      <td>1559.0</td>\n",
       "      <td>-98.059231</td>\n",
       "    </tr>\n",
       "    <tr>\n",
       "      <th>3</th>\n",
       "      <td>Korea, Rep.</td>\n",
       "      <td>KOR</td>\n",
       "      <td>Number of infant deaths</td>\n",
       "      <td>52764.0</td>\n",
       "      <td>1329.0</td>\n",
       "      <td>-97.481237</td>\n",
       "    </tr>\n",
       "    <tr>\n",
       "      <th>4</th>\n",
       "      <td>Korea, Rep.</td>\n",
       "      <td>KOR</td>\n",
       "      <td>Mortality rate, under-5 (per 1,000)</td>\n",
       "      <td>112.9</td>\n",
       "      <td>3.4</td>\n",
       "      <td>-96.988485</td>\n",
       "    </tr>\n",
       "    <tr>\n",
       "      <th>5</th>\n",
       "      <td>Bahrain</td>\n",
       "      <td>BHR</td>\n",
       "      <td>Mortality rate, under-5 (per 1,000)</td>\n",
       "      <td>200.0</td>\n",
       "      <td>6.2</td>\n",
       "      <td>-96.900000</td>\n",
       "    </tr>\n",
       "    <tr>\n",
       "      <th>6</th>\n",
       "      <td>Portugal</td>\n",
       "      <td>PRT</td>\n",
       "      <td>Mortality rate, under-5 (per 1,000)</td>\n",
       "      <td>114.6</td>\n",
       "      <td>3.6</td>\n",
       "      <td>-96.858639</td>\n",
       "    </tr>\n",
       "    <tr>\n",
       "      <th>7</th>\n",
       "      <td>United Arab Emirates</td>\n",
       "      <td>ARE</td>\n",
       "      <td>Mortality rate, under-5 (per 1,000)</td>\n",
       "      <td>204.6</td>\n",
       "      <td>6.8</td>\n",
       "      <td>-96.676442</td>\n",
       "    </tr>\n",
       "    <tr>\n",
       "      <th>8</th>\n",
       "      <td>Italy</td>\n",
       "      <td>ITA</td>\n",
       "      <td>Number of infant deaths</td>\n",
       "      <td>40753.0</td>\n",
       "      <td>1378.0</td>\n",
       "      <td>-96.618654</td>\n",
       "    </tr>\n",
       "    <tr>\n",
       "      <th>9</th>\n",
       "      <td>Portugal</td>\n",
       "      <td>PRT</td>\n",
       "      <td>Mortality rate, infant (per 1,000 live births)</td>\n",
       "      <td>84.6</td>\n",
       "      <td>3.0</td>\n",
       "      <td>-96.453901</td>\n",
       "    </tr>\n",
       "  </tbody>\n",
       "</table>\n",
       "</div>"
      ],
      "text/plain": [
       "            CountryName CountryCode  \\\n",
       "0              Portugal         PRT   \n",
       "1              Portugal         PRT   \n",
       "2           Korea, Rep.         KOR   \n",
       "3           Korea, Rep.         KOR   \n",
       "4           Korea, Rep.         KOR   \n",
       "5               Bahrain         BHR   \n",
       "6              Portugal         PRT   \n",
       "7  United Arab Emirates         ARE   \n",
       "8                 Italy         ITA   \n",
       "9              Portugal         PRT   \n",
       "\n",
       "                                    IndicatorName  val_1960  val_2015  \\\n",
       "0                     Number of under-five deaths   23643.0     304.0   \n",
       "1                         Number of infant deaths   17652.0     251.0   \n",
       "2                     Number of under-five deaths   80329.0    1559.0   \n",
       "3                         Number of infant deaths   52764.0    1329.0   \n",
       "4             Mortality rate, under-5 (per 1,000)     112.9       3.4   \n",
       "5             Mortality rate, under-5 (per 1,000)     200.0       6.2   \n",
       "6             Mortality rate, under-5 (per 1,000)     114.6       3.6   \n",
       "7             Mortality rate, under-5 (per 1,000)     204.6       6.8   \n",
       "8                         Number of infant deaths   40753.0    1378.0   \n",
       "9  Mortality rate, infant (per 1,000 live births)      84.6       3.0   \n",
       "\n",
       "   percentChange  \n",
       "0     -98.714207  \n",
       "1     -98.578065  \n",
       "2     -98.059231  \n",
       "3     -97.481237  \n",
       "4     -96.988485  \n",
       "5     -96.900000  \n",
       "6     -96.858639  \n",
       "7     -96.676442  \n",
       "8     -96.618654  \n",
       "9     -96.453901  "
      ]
     },
     "execution_count": 19,
     "metadata": {},
     "output_type": "execute_result"
    }
   ],
   "source": [
    "# list 10 most changed\n",
    "ind4study.head(10)[['CountryName','CountryCode','IndicatorName','val_1960','val_2015','percentChange']]"
   ]
  },
  {
   "cell_type": "code",
   "execution_count": 20,
   "metadata": {},
   "outputs": [
    {
     "data": {
      "text/html": [
       "<div>\n",
       "<style scoped>\n",
       "    .dataframe tbody tr th:only-of-type {\n",
       "        vertical-align: middle;\n",
       "    }\n",
       "\n",
       "    .dataframe tbody tr th {\n",
       "        vertical-align: top;\n",
       "    }\n",
       "\n",
       "    .dataframe thead th {\n",
       "        text-align: right;\n",
       "    }\n",
       "</style>\n",
       "<table border=\"1\" class=\"dataframe\">\n",
       "  <thead>\n",
       "    <tr style=\"text-align: right;\">\n",
       "      <th></th>\n",
       "      <th>CountryCode</th>\n",
       "      <th>Country</th>\n",
       "      <th>Lat</th>\n",
       "      <th>Long</th>\n",
       "    </tr>\n",
       "  </thead>\n",
       "  <tbody>\n",
       "    <tr>\n",
       "      <th>0</th>\n",
       "      <td>PRT</td>\n",
       "      <td>Portugal</td>\n",
       "      <td>39.399900</td>\n",
       "      <td>-8.224500</td>\n",
       "    </tr>\n",
       "    <tr>\n",
       "      <th>1</th>\n",
       "      <td>KOR</td>\n",
       "      <td>Korea, Rep</td>\n",
       "      <td>39.021390</td>\n",
       "      <td>125.752750</td>\n",
       "    </tr>\n",
       "    <tr>\n",
       "      <th>2</th>\n",
       "      <td>BHR</td>\n",
       "      <td>Bahrain</td>\n",
       "      <td>26.066700</td>\n",
       "      <td>50.557701</td>\n",
       "    </tr>\n",
       "    <tr>\n",
       "      <th>3</th>\n",
       "      <td>ARE</td>\n",
       "      <td>United Arab Emirates</td>\n",
       "      <td>23.424076</td>\n",
       "      <td>53.847816</td>\n",
       "    </tr>\n",
       "    <tr>\n",
       "      <th>4</th>\n",
       "      <td>ITA</td>\n",
       "      <td>Italy</td>\n",
       "      <td>41.871941</td>\n",
       "      <td>12.567380</td>\n",
       "    </tr>\n",
       "  </tbody>\n",
       "</table>\n",
       "</div>"
      ],
      "text/plain": [
       "  CountryCode               Country        Lat        Long\n",
       "0         PRT              Portugal  39.399900   -8.224500\n",
       "1         KOR            Korea, Rep  39.021390  125.752750\n",
       "2         BHR               Bahrain  26.066700   50.557701\n",
       "3         ARE  United Arab Emirates  23.424076   53.847816\n",
       "4         ITA                 Italy  41.871941   12.567380"
      ]
     },
     "execution_count": 20,
     "metadata": {},
     "output_type": "execute_result"
    }
   ],
   "source": [
    "# countries with lon/lat\n",
    "import folium\n",
    "import pandas as pd\n",
    "county_coord = pd.read_csv('./data/country_lat_long.csv',encoding='utf-8')\n",
    "county_coord.set_index('Country')\n",
    "county_coord"
   ]
  },
  {
   "cell_type": "code",
   "execution_count": 21,
   "metadata": {},
   "outputs": [
    {
     "data": {
      "text/html": [
       "<div style=\"width:100%;\"><div style=\"position:relative;width:100%;height:0;padding-bottom:60%;\"><iframe src=\"data:text/html;charset=utf-8;base64,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\" style=\"position:absolute;width:100%;height:100%;left:0;top:0;border:none !important;\" allowfullscreen webkitallowfullscreen mozallowfullscreen></iframe></div></div>"
      ],
      "text/plain": [
       "<folium.folium.Map at 0x131b6c40940>"
      ]
     },
     "execution_count": 21,
     "metadata": {},
     "output_type": "execute_result"
    }
   ],
   "source": [
    "# show countries of interest on a map\n",
    "m = folium.Map(\n",
    "    location=[23.424076, 53.847816],\n",
    "    tiles='Stamen Terrain',\n",
    "    zoom_start=3\n",
    ")\n",
    "\n",
    "folium.Marker(\n",
    "    [39.3999, -8.2245],\n",
    "    popup='Portugal'\n",
    ").add_to(m)\n",
    "\n",
    "folium.Marker(\n",
    "    [39.02139, 125.75275],\n",
    "    popup='Korea, Rep'\n",
    ").add_to(m)\n",
    "folium.Marker(\n",
    "    [26.0667, 50.557701],\n",
    "    popup='Bahrain'\n",
    ").add_to(m)\n",
    "\n",
    "folium.Marker(\n",
    "    [23.424076, 53.847816],\n",
    "    popup='United Arab Emirates'\n",
    ").add_to(m)\n",
    "\n",
    "folium.Marker(\n",
    "    [41.871941, 12.56738],\n",
    "    popup='Italy'\n",
    ").add_to(m)\n",
    "\n",
    "m"
   ]
  },
  {
   "cell_type": "code",
   "execution_count": 22,
   "metadata": {},
   "outputs": [
    {
     "data": {
      "text/html": [
       "<div>\n",
       "<style scoped>\n",
       "    .dataframe tbody tr th:only-of-type {\n",
       "        vertical-align: middle;\n",
       "    }\n",
       "\n",
       "    .dataframe tbody tr th {\n",
       "        vertical-align: top;\n",
       "    }\n",
       "\n",
       "    .dataframe thead th {\n",
       "        text-align: right;\n",
       "    }\n",
       "</style>\n",
       "<table border=\"1\" class=\"dataframe\">\n",
       "  <thead>\n",
       "    <tr style=\"text-align: right;\">\n",
       "      <th></th>\n",
       "      <th>IndicatorName</th>\n",
       "      <th>CountryName</th>\n",
       "      <th>infantDeaths</th>\n",
       "    </tr>\n",
       "  </thead>\n",
       "  <tbody>\n",
       "    <tr>\n",
       "      <th>0</th>\n",
       "      <td>Number of infant deaths</td>\n",
       "      <td>Portugal</td>\n",
       "      <td>251</td>\n",
       "    </tr>\n",
       "    <tr>\n",
       "      <th>1</th>\n",
       "      <td>Number of infant deaths</td>\n",
       "      <td>Togo</td>\n",
       "      <td>13077</td>\n",
       "    </tr>\n",
       "  </tbody>\n",
       "</table>\n",
       "</div>"
      ],
      "text/plain": [
       "             IndicatorName CountryName  infantDeaths\n",
       "0  Number of infant deaths    Portugal           251\n",
       "1  Number of infant deaths        Togo         13077"
      ]
     },
     "execution_count": 22,
     "metadata": {},
     "output_type": "execute_result"
    }
   ],
   "source": [
    "# Sample 1 top and one near the bottom for discussion\n",
    "sql_stmt = \"select IndicatorName, CountryName, Value as infantDeaths from Indicators where CountryCode in ('PRT','TGO') and IndicatorCode in ('SP.POP.TOTL','SH.DTH.IMRT') and Year = 2015\"\n",
    "lives1 = pd.read_sql_query(sql_stmt, cnx)\n",
    "lives1.head()"
   ]
  },
  {
   "cell_type": "code",
   "execution_count": 23,
   "metadata": {},
   "outputs": [
    {
     "data": {
      "text/html": [
       "<div>\n",
       "<style scoped>\n",
       "    .dataframe tbody tr th:only-of-type {\n",
       "        vertical-align: middle;\n",
       "    }\n",
       "\n",
       "    .dataframe tbody tr th {\n",
       "        vertical-align: top;\n",
       "    }\n",
       "\n",
       "    .dataframe thead th {\n",
       "        text-align: right;\n",
       "    }\n",
       "</style>\n",
       "<table border=\"1\" class=\"dataframe\">\n",
       "  <thead>\n",
       "    <tr style=\"text-align: right;\">\n",
       "      <th></th>\n",
       "      <th>CountryName</th>\n",
       "      <th>CountryCode</th>\n",
       "      <th>IndicatorName</th>\n",
       "      <th>IndicatorCode</th>\n",
       "      <th>val_1960</th>\n",
       "      <th>val_2015</th>\n",
       "      <th>percentChange</th>\n",
       "      <th>abs_prct_chng</th>\n",
       "    </tr>\n",
       "  </thead>\n",
       "  <tbody>\n",
       "    <tr>\n",
       "      <th>1</th>\n",
       "      <td>Portugal</td>\n",
       "      <td>PRT</td>\n",
       "      <td>Number of infant deaths</td>\n",
       "      <td>SH.DTH.IMRT</td>\n",
       "      <td>17652.0</td>\n",
       "      <td>251.0</td>\n",
       "      <td>-98.578065</td>\n",
       "      <td>98.578065</td>\n",
       "    </tr>\n",
       "    <tr>\n",
       "      <th>426</th>\n",
       "      <td>Togo</td>\n",
       "      <td>TGO</td>\n",
       "      <td>Number of infant deaths</td>\n",
       "      <td>SH.DTH.IMRT</td>\n",
       "      <td>11431.0</td>\n",
       "      <td>13077.0</td>\n",
       "      <td>14.399440</td>\n",
       "      <td>14.399440</td>\n",
       "    </tr>\n",
       "  </tbody>\n",
       "</table>\n",
       "</div>"
      ],
      "text/plain": [
       "    CountryName CountryCode            IndicatorName IndicatorCode  val_1960  \\\n",
       "1      Portugal         PRT  Number of infant deaths   SH.DTH.IMRT   17652.0   \n",
       "426        Togo         TGO  Number of infant deaths   SH.DTH.IMRT   11431.0   \n",
       "\n",
       "     val_2015  percentChange  abs_prct_chng  \n",
       "1       251.0     -98.578065      98.578065  \n",
       "426   13077.0      14.399440      14.399440  "
      ]
     },
     "execution_count": 23,
     "metadata": {},
     "output_type": "execute_result"
    }
   ],
   "source": [
    "cCode = ['PRT', 'TGO']\n",
    "ind4study_subset = ind4study[ind4study.CountryCode.isin(cCode)]\n",
    "ind4study_subset = ind4study_subset[ind4study_subset.IndicatorCode == 'SH.DTH.IMRT']\n",
    "ind4study_subset.head()"
   ]
  },
  {
   "cell_type": "markdown",
   "metadata": {},
   "source": [
    "**Conclusions**\n",
    "\n",
    "All of the most significant improvements in the indicators are;\n",
    "* related to infant mortality rates\n",
    "\n",
    "**Improvements of this magnitude are significant when you consider what these numbers mean.**\n",
    "For example, if you just consider Portugal, the improvements represent that 23,339 fewer children died in 2015 than would have considering that over 23,643 where dying each year.\n",
    "\n",
    "If you consider Togo that had a similar infant mortality rate as Portugal but has not shown improvements.  They still have about the same number of children under 5 die each year.\n",
    "\n",
    "\n",
    "Recommendations for further study.\n",
    "* Exam the details of counties that showed the most improvement and try to determine best practices.\n",
    "* Exam the circumstances of countries like Toga and see what best practices could be implemented.\n"
   ]
  }
 ],
 "metadata": {
  "kernelspec": {
   "display_name": "Python 3",
   "language": "python",
   "name": "python3"
  },
  "language_info": {
   "codemirror_mode": {
    "name": "ipython",
    "version": 3
   },
   "file_extension": ".py",
   "mimetype": "text/x-python",
   "name": "python",
   "nbconvert_exporter": "python",
   "pygments_lexer": "ipython3",
   "version": "3.7.1"
  }
 },
 "nbformat": 4,
 "nbformat_minor": 1
}
